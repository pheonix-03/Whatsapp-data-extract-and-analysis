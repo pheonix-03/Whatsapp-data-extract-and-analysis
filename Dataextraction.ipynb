{
 "cells": [
  {
   "cell_type": "code",
   "execution_count": 1,
   "id": "39f77b68",
   "metadata": {},
   "outputs": [],
   "source": [
    "import pandas as pd\n",
    "import re\n",
    "import numpy as np\n",
    "import matplotlib.pyplot as plt"
   ]
  },
  {
   "cell_type": "code",
   "execution_count": 2,
   "id": "f5d4f08d",
   "metadata": {
    "scrolled": true
   },
   "outputs": [
    {
     "data": {
      "text/html": [
       "<div>\n",
       "<style scoped>\n",
       "    .dataframe tbody tr th:only-of-type {\n",
       "        vertical-align: middle;\n",
       "    }\n",
       "\n",
       "    .dataframe tbody tr th {\n",
       "        vertical-align: top;\n",
       "    }\n",
       "\n",
       "    .dataframe thead th {\n",
       "        text-align: right;\n",
       "    }\n",
       "</style>\n",
       "<table border=\"1\" class=\"dataframe\">\n",
       "  <thead>\n",
       "    <tr style=\"text-align: right;\">\n",
       "      <th></th>\n",
       "      <th>0</th>\n",
       "      <th>1</th>\n",
       "    </tr>\n",
       "  </thead>\n",
       "  <tbody>\n",
       "    <tr>\n",
       "      <th>0</th>\n",
       "      <td>8/7/19, 07:35 - Messages and calls are end-to-...</td>\n",
       "      <td>more.</td>\n",
       "    </tr>\n",
       "    <tr>\n",
       "      <th>1</th>\n",
       "      <td>8/7/19, 07:35 - Subhomoy Banerjee: It's was ju...</td>\n",
       "      <td>NaN</td>\n",
       "    </tr>\n",
       "    <tr>\n",
       "      <th>2</th>\n",
       "      <td>8/7/19, 07:35 - Apurva: It's okay</td>\n",
       "      <td>NaN</td>\n",
       "    </tr>\n",
       "    <tr>\n",
       "      <th>3</th>\n",
       "      <td>8/7/19, 07:35 - Subhomoy Banerjee: Thank you</td>\n",
       "      <td>NaN</td>\n",
       "    </tr>\n",
       "    <tr>\n",
       "      <th>4</th>\n",
       "      <td>8/7/19, 07:35 - Apurva: But who are you??</td>\n",
       "      <td>NaN</td>\n",
       "    </tr>\n",
       "  </tbody>\n",
       "</table>\n",
       "</div>"
      ],
      "text/plain": [
       "                                                   0      1\n",
       "0  8/7/19, 07:35 - Messages and calls are end-to-...  more.\n",
       "1  8/7/19, 07:35 - Subhomoy Banerjee: It's was ju...    NaN\n",
       "2                  8/7/19, 07:35 - Apurva: It's okay    NaN\n",
       "3       8/7/19, 07:35 - Subhomoy Banerjee: Thank you    NaN\n",
       "4          8/7/19, 07:35 - Apurva: But who are you??    NaN"
      ]
     },
     "execution_count": 2,
     "metadata": {},
     "output_type": "execute_result"
    }
   ],
   "source": [
    "x_df = pd.read_fwf('chat7.txt', header = None)\n",
    "x_df.head()"
   ]
  },
  {
   "cell_type": "code",
   "execution_count": 3,
   "id": "28240bb4",
   "metadata": {},
   "outputs": [
    {
     "data": {
      "text/plain": [
       "(24062, 2)"
      ]
     },
     "execution_count": 3,
     "metadata": {},
     "output_type": "execute_result"
    }
   ],
   "source": [
    "x_df.shape"
   ]
  },
  {
   "cell_type": "code",
   "execution_count": 4,
   "id": "a979115f",
   "metadata": {},
   "outputs": [
    {
     "name": "stdout",
     "output_type": "stream",
     "text": [
      "18925 18738 18738 18738 18738\n"
     ]
    },
    {
     "data": {
      "text/html": [
       "<div>\n",
       "<style scoped>\n",
       "    .dataframe tbody tr th:only-of-type {\n",
       "        vertical-align: middle;\n",
       "    }\n",
       "\n",
       "    .dataframe tbody tr th {\n",
       "        vertical-align: top;\n",
       "    }\n",
       "\n",
       "    .dataframe thead th {\n",
       "        text-align: right;\n",
       "    }\n",
       "</style>\n",
       "<table border=\"1\" class=\"dataframe\">\n",
       "  <thead>\n",
       "    <tr style=\"text-align: right;\">\n",
       "      <th></th>\n",
       "      <th>date</th>\n",
       "      <th>time</th>\n",
       "      <th>user</th>\n",
       "      <th>message</th>\n",
       "    </tr>\n",
       "  </thead>\n",
       "  <tbody>\n",
       "    <tr>\n",
       "      <th>0</th>\n",
       "      <td>2019-08-07</td>\n",
       "      <td>07:35</td>\n",
       "      <td>Subhomoy Banerjee</td>\n",
       "      <td>It's was just a mistake</td>\n",
       "    </tr>\n",
       "    <tr>\n",
       "      <th>1</th>\n",
       "      <td>2019-08-07</td>\n",
       "      <td>07:35</td>\n",
       "      <td>Apurva</td>\n",
       "      <td>It's okay</td>\n",
       "    </tr>\n",
       "    <tr>\n",
       "      <th>2</th>\n",
       "      <td>2019-08-07</td>\n",
       "      <td>07:35</td>\n",
       "      <td>Subhomoy Banerjee</td>\n",
       "      <td>Thank you</td>\n",
       "    </tr>\n",
       "    <tr>\n",
       "      <th>3</th>\n",
       "      <td>2019-08-07</td>\n",
       "      <td>07:35</td>\n",
       "      <td>Apurva</td>\n",
       "      <td>But who are you??</td>\n",
       "    </tr>\n",
       "    <tr>\n",
       "      <th>4</th>\n",
       "      <td>2019-08-07</td>\n",
       "      <td>07:36</td>\n",
       "      <td>Subhomoy Banerjee</td>\n",
       "      <td>I'm nobody and nobody is perfect</td>\n",
       "    </tr>\n",
       "  </tbody>\n",
       "</table>\n",
       "</div>"
      ],
      "text/plain": [
       "        date    time               user                            message\n",
       "0 2019-08-07   07:35  Subhomoy Banerjee            It's was just a mistake\n",
       "1 2019-08-07   07:35             Apurva                          It's okay\n",
       "2 2019-08-07   07:35  Subhomoy Banerjee                          Thank you\n",
       "3 2019-08-07   07:35             Apurva                  But who are you??\n",
       "4 2019-08-07   07:36  Subhomoy Banerjee   I'm nobody and nobody is perfect"
      ]
     },
     "execution_count": 4,
     "metadata": {},
     "output_type": "execute_result"
    }
   ],
   "source": [
    "import re\n",
    "def txtdfTodf(whatsapp_df):\n",
    "    x=[]\n",
    "    date = []\n",
    "    time = []\n",
    "    user = []\n",
    "    valid=[]\n",
    "    message = []\n",
    "    pat1 = re.compile(r'(\\d\\/\\d\\/\\d\\d)')\n",
    "    pat2 = re.compile(r'(\\d\\d\\/\\d\\d\\/\\d\\d)')\n",
    "    pat3 = re.compile(r'(\\d\\/\\d\\d\\/\\d\\d)')\n",
    "    pat4 = re.compile(r'(\\d\\d\\/\\d\\/\\d\\d)')\n",
    "\n",
    "    for i in range(len(whatsapp_df)):\n",
    "        if(len(re.split('-',whatsapp_df[0][i])) ==2 ):\n",
    "            x.append(re.split(' - ',whatsapp_df[0][i]))\n",
    "\n",
    "    for i in range(len(x)):\n",
    "        data=re.split(', ',x[i][0])[0]\n",
    "        if(pat1.search(data) or pat2.search(data) or pat3.search(data) or pat4.search(data)):\n",
    "            date.append(re.split(', ',x[i][0])[0])\n",
    "            time.append(re.split(',',x[i][0])[1])\n",
    "            valid.append(i)\n",
    "    for i in valid:\n",
    "        user.append(re.split(':',x[i][1])[0])\n",
    "        try:\n",
    "            message.append(re.split(':',x[i][1])[1])\n",
    "        except:\n",
    "            message.append(\" \")\n",
    "\n",
    "    print(len(x),len(date),len(time),len(user),len(message))\n",
    "    #print(user)\n",
    "\n",
    "    df = pd.DataFrame(zip(date,time,user,message), columns=['date','time', 'user', 'message'])\n",
    "    #df['time'] = pd.to_datetime(df.time,format=\" %H:%M\")\n",
    "    df['date'] = pd.to_datetime(df.date,format=\"%m/%d/%y\")\n",
    "    return df\n",
    "\n",
    "new_df = txtdfTodf(x_df)\n",
    "new_df.to_csv('apurva1.csv',index=False)\n",
    "new_df.head()"
   ]
  }
 ],
 "metadata": {
  "kernelspec": {
   "display_name": "Python 3 (ipykernel)",
   "language": "python",
   "name": "python3"
  },
  "language_info": {
   "codemirror_mode": {
    "name": "ipython",
    "version": 3
   },
   "file_extension": ".py",
   "mimetype": "text/x-python",
   "name": "python",
   "nbconvert_exporter": "python",
   "pygments_lexer": "ipython3",
   "version": "3.9.2"
  }
 },
 "nbformat": 4,
 "nbformat_minor": 5
}
